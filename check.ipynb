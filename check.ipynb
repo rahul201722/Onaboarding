{
 "cells": [
  {
   "cell_type": "code",
   "execution_count": 6,
   "metadata": {},
   "outputs": [
    {
     "name": "stdout",
     "output_type": "stream",
     "text": [
      "('PostgreSQL 15.8 on aarch64-unknown-linux-gnu, compiled by gcc (GCC) 13.2.0, 64-bit',)\n"
     ]
    }
   ],
   "source": [
    "import psycopg2\n",
    "\n",
    "try:\n",
    "    conn = psycopg2.connect(\n",
    "        host=\"aws-0-ap-southeast-2.pooler.supabase.com\",\n",
    "        port=6543,\n",
    "        database=\"postgres\",\n",
    "        user=\"postgres.oxsesybpzosabhxpkkto\",\n",
    "        password=\"ta28_monash\"  # Replace with your actual password\n",
    "    )\n",
    "\n",
    "    cur = conn.cursor()\n",
    "    cur.execute(\"SELECT version()\")\n",
    "    db_version = cur.fetchone()\n",
    "    print(db_version)\n",
    "\n",
    "    cur.close()\n",
    "    conn.close()\n",
    "\n",
    "except psycopg2.Error as e:\n",
    "    print(f\"Error connecting to PostgreSQL: {e}\")\n"
   ]
  },
  {
   "cell_type": "code",
   "execution_count": null,
   "metadata": {},
   "outputs": [],
   "source": [
    "# send this data to the frontend as a JSON response\n",
    "import json\n",
    "from flask import Flask, Response\n",
    "\n",
    "app = Flask(__name__)\n",
    "\n",
    "@app.route(\"/locations\")\n",
    "\n",
    "def get_locations():\n",
    "    try:\n",
    "        conn = psycopg2.connect(\n",
    "            host=\"aws-0-ap-southeast-2.pooler.supabase.com\",\n",
    "            port=6543,\n",
    "            database=\"postgres\",\n",
    "            user=\"postgres.oxsesybpzosabhxpkkto\",\n",
    "            password=\"ta28_monash\"  # Replace with your actual password\n",
    "        )\n",
    "\n",
    "        cur = conn.cursor()\n",
    "        cur.execute(\"SELECT * FROM location\")\n",
    "        locations = cur.fetchall()\n",
    "        cur.close()\n",
    "        conn.close()\n",
    "\n",
    "        return Response(json.dumps(locations), mimetype=\"application/json\")\n",
    "\n",
    "    except psycopg2.Error as e:\n",
    "        return Response(json.dumps({\"error\": str(e)}), status=500, mimetype=\"application/json\")\n",
    "    \n",
    "if __name__ == \"__main__\":\n",
    "    app.run(port=5000)"
   ]
  },
  {
   "cell_type": "code",
   "execution_count": null,
   "metadata": {},
   "outputs": [],
   "source": []
  }
 ],
 "metadata": {
  "kernelspec": {
   "display_name": "backend",
   "language": "python",
   "name": "python3"
  },
  "language_info": {
   "codemirror_mode": {
    "name": "ipython",
    "version": 3
   },
   "file_extension": ".py",
   "mimetype": "text/x-python",
   "name": "python",
   "nbconvert_exporter": "python",
   "pygments_lexer": "ipython3",
   "version": "3.11.11"
  }
 },
 "nbformat": 4,
 "nbformat_minor": 2
}
